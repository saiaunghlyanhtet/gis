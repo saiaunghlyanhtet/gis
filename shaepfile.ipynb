{
 "cells": [
  {
   "cell_type": "code",
   "execution_count": 25,
   "metadata": {},
   "outputs": [
    {
     "name": "stdout",
     "output_type": "stream",
     "text": [
      "shapefile Reader\n",
      "    37 shapes (type 'POINT')\n",
      "[]\n",
      "1\n",
      "[-175.23533295466754, -54.274478863695265, 179.20397422623353, 71.02824880643254]\n",
      "None\n",
      "[[166.9270664395989, -15.367957152169708]]\n",
      "ne_110m_admin_0_tiny_countries\n",
      "POINT\n",
      "utf-8\n",
      "1\n",
      "POINT\n"
     ]
    }
   ],
   "source": [
    "import shapefile\n",
    "\n",
    "with shapefile.Reader(\"ne_110m_admin_0_tiny_countries.shp\") as shp:\n",
    "    print(shp)\n",
    "    print(shp.fields)\n",
    "    print(shp.shapeType)\n",
    "    print(shp.bbox)\n",
    "    print(shp.numRecords)\n",
    "    print(shp.shape(0).points)\n",
    "    print(shp.shapeName)\n",
    "    print(shp.shapeTypeName)\n",
    "    print(shp.encoding)\n",
    "    print(shp.shape(0).shapeType)\n",
    "    print(shp.shape(0).shapeTypeName)"
   ]
  }
 ],
 "metadata": {
  "kernelspec": {
   "display_name": "Python 3",
   "language": "python",
   "name": "python3"
  },
  "language_info": {
   "codemirror_mode": {
    "name": "ipython",
    "version": 3
   },
   "file_extension": ".py",
   "mimetype": "text/x-python",
   "name": "python",
   "nbconvert_exporter": "python",
   "pygments_lexer": "ipython3",
   "version": "3.13.0"
  }
 },
 "nbformat": 4,
 "nbformat_minor": 2
}
