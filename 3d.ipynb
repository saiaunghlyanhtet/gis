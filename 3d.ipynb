{
 "cells": [
  {
   "cell_type": "code",
   "execution_count": null,
   "metadata": {},
   "outputs": [
    {
     "name": "stderr",
     "output_type": "stream",
     "text": [
      "/Library/Frameworks/Python.framework/Versions/3.13/lib/python3.13/site-packages/pyvista/jupyter/notebook.py:37: UserWarning: Failed to use notebook backend: \n",
      "\n",
      "No module named 'trame'\n",
      "\n",
      "Falling back to a static output.\n",
      "  warnings.warn(\n"
     ]
    }
   ],
   "source": [
    "import rasterio\n",
    "import numpy as np\n",
    "import pyvista as pv\n",
    "\n",
    "def create_3d_model(raster_file):\n",
    "    with rasterio.open(raster_file) as dataset:\n",
    "        elevation_data = dataset.read(1)\n",
    "        elevation_data = np.where(elevation_data == dataset.nodata, np.nan, elevation_data)\n",
    "        \n",
    "        # Create a mesh grid\n",
    "        x = np.arange(0, elevation_data.shape[1]) * dataset.res[0]\n",
    "        y = np.arange(0, elevation_data.shape[0]) * dataset.res[1]\n",
    "        x, y = np.meshgrid(x, y)\n",
    "        \n",
    "        # Flatten the arrays\n",
    "        x_world = x.flatten()\n",
    "        y_world = y.flatten()\n",
    "        z_world = elevation_data.flatten()\n",
    "        \n",
    "        # Create the structured grid\n",
    "        grid = pv.StructuredGrid()\n",
    "        grid.points = np.c_[x_world, y_world, z_world]\n",
    "        \n",
    "        # Set the dimensions correctly\n",
    "        grid.dimensions = (elevation_data.shape[1], elevation_data.shape[0], 1)\n",
    "        \n",
    "        # Plot the 3D model\n",
    "        plotter = pv.Plotter()\n",
    "        plotter.add_mesh(grid, scalars=z_world, cmap='terrain', show_edges=True)\n",
    "        plotter.show()\n",
    "\n",
    "raster = 'AK22_Lamb_be/LAMB_GEG_01M.tif'\n",
    "create_3d_model(raster)"
   ]
  }
 ],
 "metadata": {
  "kernelspec": {
   "display_name": "Python 3",
   "language": "python",
   "name": "python3"
  },
  "language_info": {
   "codemirror_mode": {
    "name": "ipython",
    "version": 3
   },
   "file_extension": ".py",
   "mimetype": "text/x-python",
   "name": "python",
   "nbconvert_exporter": "python",
   "pygments_lexer": "ipython3",
   "version": "3.13.0"
  }
 },
 "nbformat": 4,
 "nbformat_minor": 2
}
