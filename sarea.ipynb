{
 "cells": [
  {
   "cell_type": "code",
   "execution_count": 2,
   "metadata": {},
   "outputs": [
    {
     "name": "stderr",
     "output_type": "stream",
     "text": [
      "/Library/Frameworks/Python.framework/Versions/3.13/lib/python3.13/site-packages/pyproj/crs/crs.py:143: FutureWarning: '+init=<authority>:<code>' syntax is deprecated. '<authority>:<code>' is the preferred initialization method. When making the change, be mindful of axis order changes: https://pyproj4.github.io/pyproj/stable/gotchas.html#axis-order-changes-in-proj-6\n",
      "  in_crs_string = _prepare_from_proj_string(in_crs_string)\n"
     ]
    },
    {
     "name": "stdout",
     "output_type": "stream",
     "text": [
      "          area_m2  area_km2\n",
      "0    6.098418e+06  6.098418\n",
      "1    4.099748e+06  4.099748\n",
      "2    4.413885e+06  4.413885\n",
      "3    2.365152e+06  2.365152\n",
      "4    5.727517e+06  5.727517\n",
      "..            ...       ...\n",
      "123  3.347821e+06  3.347821\n",
      "124  3.857045e+06  3.857045\n",
      "125  2.933006e+06  2.933006\n",
      "126  2.949058e+06  2.949058\n",
      "127  3.887339e+06  3.887339\n",
      "\n",
      "[128 rows x 2 columns]\n"
     ]
    }
   ],
   "source": [
    "import geopandas as gpd\n",
    "\n",
    "shapefile = 'denpasar_metro_area.shp'\n",
    "gdf = gpd.read_file(shapefile)\n",
    "\n",
    "if gdf.crs is None:\n",
    "    gdf.crs = {'init': 'epsg:4326'}\n",
    "if not gdf.crs.is_projected:\n",
    "    gdf = gdf.to_crs(gdf.estimate_utm_crs())\n",
    "\n",
    "gdf['area_m2'] = gdf.geometry.area\n",
    "gdf['area_km2'] = gdf['area_m2'] / 1e6\n",
    "print(gdf[['area_m2', 'area_km2']])"
   ]
  }
 ],
 "metadata": {
  "kernelspec": {
   "display_name": "Python 3",
   "language": "python",
   "name": "python3"
  },
  "language_info": {
   "codemirror_mode": {
    "name": "ipython",
    "version": 3
   },
   "file_extension": ".py",
   "mimetype": "text/x-python",
   "name": "python",
   "nbconvert_exporter": "python",
   "pygments_lexer": "ipython3",
   "version": "3.13.0"
  }
 },
 "nbformat": 4,
 "nbformat_minor": 2
}
