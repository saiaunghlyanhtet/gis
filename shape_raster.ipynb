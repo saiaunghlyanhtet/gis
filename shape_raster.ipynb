{
 "cells": [
  {
   "cell_type": "code",
   "execution_count": null,
   "metadata": {},
   "outputs": [],
   "source": [
    "from osgeo import  gdal, ogr, osr\n",
    "import rasterio\n",
    "import rasterio.plot as rplot\n",
    "import matplotlib.pyplot as plt\n",
    "\n",
    "def shapefile_to_raster(shapefile, rasterfile, pixel_size=25, burn_value=1):\n",
    "    shapefile_ds = ogr.Open(shapefile)\n",
    "    shapefile_layer = shapefile_ds.GetLayer()\n",
    "\n",
    "    spatial_ref = shapefile_layer.GetSpatialRef()\n",
    "    x_min, x_max, y_min, y_max = shapefile_layer.GetExtent()\n",
    "\n",
    "    x_res = int((x_max - x_min) / pixel_size)\n",
    "    y_res = int((y_max - y_min) / pixel_size)   \n",
    "\n",
    "    raster_ds = gdal.GetDriverByName('GTiff').Create(rasterfile, x_res, y_res, 1, gdal.GDT_Byte)\n",
    "    raster_ds.SetGeoTransform((x_min, pixel_size, 0, y_max, 0, -pixel_size))\n",
    "    raster_ds.SetProjection(spatial_ref.ExportToWkt())\n",
    "\n",
    "    gdal.RasterizeLayer(raster_ds, [1], shapefile_layer, burn_values=[burn_value])\n",
    "\n",
    "    shapefile_ds = None \n",
    "    raster_ds = None\n",
    "\n",
    "def plot_raster(rasterfile):\n",
    "    with rasterio.open(rasterfile) as src:\n",
    "        fig, ax = plt.subplots(1, figsize=(12, 12))\n",
    "        rplot.show(src, ax=ax, title='Raster')\n",
    "        plt.show()\n",
    "\n",
    "shapefile = 'denpasar_metro_area.shp'\n",
    "rasterfile = 'denpasar_metro_area_conv.tif'\n",
    "shapefile_to_raster(shapefile, rasterfile)\n",
    "plot_raster(rasterfile)\n",
    "\n"
   ]
  }
 ],
 "metadata": {
  "kernelspec": {
   "display_name": "Python 3",
   "language": "python",
   "name": "python3"
  },
  "language_info": {
   "name": "python",
   "version": "3.13.0"
  }
 },
 "nbformat": 4,
 "nbformat_minor": 2
}
