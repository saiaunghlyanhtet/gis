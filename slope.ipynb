{
 "cells": [
  {
   "cell_type": "code",
   "execution_count": 2,
   "metadata": {},
   "outputs": [],
   "source": [
    "import rasterio\n",
    "import numpy as np \n",
    "from rasterio.windows import Window\n",
    "\n",
    "def calculate_slope(dem_path, output_path):\n",
    "    with rasterio.open(dem_path) as dem:\n",
    "        elevation = dem.read(1)\n",
    "        transform = dem.transform\n",
    "        cell_size_x = transform[0]\n",
    "        cell_size_y = -transform[4]\n",
    "\n",
    "        dzdx = np.gradient(elevation, axis=1) / cell_size_x\n",
    "        dzdy = np.gradient(elevation, axis=0) / cell_size_y\n",
    "\n",
    "        slope = np.arctan(np.sqrt(dzdx ** 2 + dzdy ** 2)) * (180 / np.pi)\n",
    "        slope_meta = dem.meta.copy()\n",
    "        slope_meta.update({'dtype': 'float32'})\n",
    "\n",
    "        with rasterio.open(output_path, 'w', **slope_meta) as dst:\n",
    "            dst.write(slope.astype('float32'), 1)\n",
    "\n",
    "dem_path = 'AK22_Lamb_be/LAMB_GEG_01M.tif'\n",
    "output_path = 'AK22_Lamb_be/slope.tif'\n",
    "calculate_slope(dem_path, output_path)\n"
   ]
  }
 ],
 "metadata": {
  "kernelspec": {
   "display_name": "Python 3",
   "language": "python",
   "name": "python3"
  },
  "language_info": {
   "codemirror_mode": {
    "name": "ipython",
    "version": 3
   },
   "file_extension": ".py",
   "mimetype": "text/x-python",
   "name": "python",
   "nbconvert_exporter": "python",
   "pygments_lexer": "ipython3",
   "version": "3.13.0"
  }
 },
 "nbformat": 4,
 "nbformat_minor": 2
}
