{
 "cells": [
  {
   "cell_type": "code",
   "execution_count": 1,
   "metadata": {},
   "outputs": [
    {
     "name": "stdout",
     "output_type": "stream",
     "text": [
      "[[    0     0]\n",
      " [    0     1]\n",
      " [    0     2]\n",
      " ...\n",
      " [29004 24002]\n",
      " [29004 24003]\n",
      " [29004 24004]]\n",
      "[[    0     0]\n",
      " [    0     1]\n",
      " [    0     2]\n",
      " ...\n",
      " [29004 24002]\n",
      " [29004 24003]\n",
      " [29004 24004]]\n"
     ]
    },
    {
     "ename": "",
     "evalue": "",
     "output_type": "error",
     "traceback": [
      "\u001b[1;31mThe Kernel crashed while executing code in the current cell or a previous cell. \n",
      "\u001b[1;31mPlease review the code in the cell(s) to identify a possible cause of the failure. \n",
      "\u001b[1;31mClick <a href='https://aka.ms/vscodeJupyterKernelCrash'>here</a> for more info. \n",
      "\u001b[1;31mView Jupyter <a href='command:jupyter.viewOutput'>log</a> for further details."
     ]
    }
   ],
   "source": [
    "import rasterio\n",
    "import numpy as np\n",
    "from scipy.ndimage import gaussian_filter, maximum_filter, minimum_filter\n",
    "import matplotlib.pyplot as plt\n",
    "\n",
    "raster = rasterio.open('AK22_Lamb_be/LAMB_GEG_01M.tif')\n",
    "np.random.seed(0)\n",
    "elevation_data = raster.read(1)\n",
    "smoothed_data = gaussian_filter(elevation_data, sigma=1)\n",
    "neighborhood = 5\n",
    "local_max = maximum_filter(smoothed_data, neighborhood) == smoothed_data\n",
    "local_min = minimum_filter(smoothed_data, neighborhood) == smoothed_data\n",
    "\n",
    "peak_coords = np.argwhere(local_max)\n",
    "depression_coords = np.argwhere(local_min)\n",
    "\n",
    "print(peak_coords)\n",
    "print(depression_coords)\n",
    "\n",
    "plt.figure(figsize=(12, 6))\n",
    "plt.imshow(elevation_data, cmap='terrain', origin='lower')\n",
    "plt.colorbar(label='Elevation (m)')\n",
    "plt.scatter(peak_coords[:, 1], peak_coords[:, 0], s=10, c='r', label='Peaks')\n",
    "plt.scatter(depression_coords[:, 1], depression_coords[:, 0], s=10, c='b', label='Depressions')\n",
    "plt.legend()\n",
    "plt.show()\n",
    "\n"
   ]
  }
 ],
 "metadata": {
  "kernelspec": {
   "display_name": "Python 3",
   "language": "python",
   "name": "python3"
  },
  "language_info": {
   "codemirror_mode": {
    "name": "ipython",
    "version": 3
   },
   "file_extension": ".py",
   "mimetype": "text/x-python",
   "name": "python",
   "nbconvert_exporter": "python",
   "pygments_lexer": "ipython3",
   "version": "3.13.0"
  }
 },
 "nbformat": 4,
 "nbformat_minor": 2
}
