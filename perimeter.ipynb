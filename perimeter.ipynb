{
 "cells": [
  {
   "cell_type": "code",
   "execution_count": 3,
   "metadata": {},
   "outputs": [
    {
     "name": "stdout",
     "output_type": "stream",
     "text": [
      "      periemter_m                                           geometry\n",
      "123  10817.399473  POLYGON Z ((298662.272 9048704.765 0, 298660.1...\n",
      "124  12428.537654  POLYGON Z ((300181.93 9050527.474 0, 300184.40...\n",
      "125   8657.091537  POLYGON Z ((300913.931 9049130.867 0, 300914.4...\n",
      "126   8522.089083  POLYGON Z ((301512.881 9050558.2 0, 301513.238...\n",
      "127  13136.868366  POLYGON Z ((301320.433 9053883.011 0, 301319.8...\n"
     ]
    },
    {
     "name": "stderr",
     "output_type": "stream",
     "text": [
      "/Library/Frameworks/Python.framework/Versions/3.13/lib/python3.13/site-packages/pyproj/crs/crs.py:143: FutureWarning: '+init=<authority>:<code>' syntax is deprecated. '<authority>:<code>' is the preferred initialization method. When making the change, be mindful of axis order changes: https://pyproj4.github.io/pyproj/stable/gotchas.html#axis-order-changes-in-proj-6\n",
      "  in_crs_string = _prepare_from_proj_string(in_crs_string)\n"
     ]
    }
   ],
   "source": [
    "import geopandas as gpd\n",
    "\n",
    "shapefile = 'denpasar_metro_area.shp'\n",
    "gdf = gpd.read_file(shapefile)\n",
    "\n",
    "if gdf.crs is None:\n",
    "    gdf.crs = {'init': 'epsg:4326'}\n",
    "if not gdf.crs.is_projected:\n",
    "    gdf = gdf.to_crs(gdf.estimate_utm_crs())\n",
    "\n",
    "gdf['periemter_m'] = gdf.geometry.length\n",
    "print(gdf[['periemter_m', 'geometry']].tail())"
   ]
  }
 ],
 "metadata": {
  "kernelspec": {
   "display_name": "Python 3",
   "language": "python",
   "name": "python3"
  },
  "language_info": {
   "codemirror_mode": {
    "name": "ipython",
    "version": 3
   },
   "file_extension": ".py",
   "mimetype": "text/x-python",
   "name": "python",
   "nbconvert_exporter": "python",
   "pygments_lexer": "ipython3",
   "version": "3.13.0"
  }
 },
 "nbformat": 4,
 "nbformat_minor": 2
}
