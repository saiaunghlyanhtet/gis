{
 "cells": [
  {
   "cell_type": "code",
   "execution_count": 1,
   "metadata": {},
   "outputs": [
    {
     "name": "stdout",
     "output_type": "stream",
     "text": [
      "[[0. 0. 0. ... 0. 0. 0.]\n",
      " [0. 0. 0. ... 0. 0. 0.]\n",
      " [0. 0. 0. ... 0. 0. 0.]\n",
      " ...\n",
      " [0. 0. 0. ... 0. 0. 0.]\n",
      " [0. 0. 0. ... 0. 0. 0.]\n",
      " [0. 0. 0. ... 0. 0. 0.]]\n"
     ]
    }
   ],
   "source": [
    "import rasterio\n",
    "import numpy as np \n",
    "\n",
    "def calculate_aspect(dem):\n",
    "    with rasterio.open(dem) as dem:\n",
    "        elevation = dem.read(1)\n",
    "        transform = dem.transform\n",
    "        cell_size_x = transform[0]\n",
    "        cell_size_y = -transform[4]\n",
    "\n",
    "        dzdx = np.gradient(elevation, axis=1) / cell_size_x\n",
    "        dzdy = np.gradient(elevation, axis=0) / cell_size_y\n",
    "\n",
    "        aspect = np.arctan2(-dzdy, dzdx)\n",
    "        aspect = np.degrees(aspect)\n",
    "        aspect = (aspect + 360) % 360\n",
    "\n",
    "        print(aspect)\n",
    "\n",
    "dem_path = 'AK22_Lamb_be/LAMB_GEG_01M.tif'\n",
    "calculate_aspect(dem_path)\n"
   ]
  }
 ],
 "metadata": {
  "kernelspec": {
   "display_name": "Python 3",
   "language": "python",
   "name": "python3"
  },
  "language_info": {
   "codemirror_mode": {
    "name": "ipython",
    "version": 3
   },
   "file_extension": ".py",
   "mimetype": "text/x-python",
   "name": "python",
   "nbconvert_exporter": "python",
   "pygments_lexer": "ipython3",
   "version": "3.13.0"
  }
 },
 "nbformat": 4,
 "nbformat_minor": 2
}
