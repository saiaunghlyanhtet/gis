{
 "cells": [
  {
   "cell_type": "code",
   "execution_count": 5,
   "metadata": {},
   "outputs": [
    {
     "name": "stdout",
     "output_type": "stream",
     "text": [
      "Area: 284642342.0 m^2, Volume: 3826732544.0 m^3\n",
      "Area: 284727244.0 m^2, Volume: 4347319808.0 m^3\n"
     ]
    }
   ],
   "source": [
    "import rasterio\n",
    "import numpy as np\n",
    "import rasterio.plot as rplot\n",
    "import matplotlib.pyplot as plt\n",
    "\n",
    "def cal_area_volume(raster_file, base_elevation=0):\n",
    "    with rasterio.open(raster_file) as dataset:\n",
    "        elevation = dataset.read(1)\n",
    "        elevation = np.where(elevation == dataset.nodata, np.nan, elevation)\n",
    "        # get pixel size in meters\n",
    "        pixel_size = dataset.res[0] * dataset.res[1]\n",
    "\n",
    "        mask = elevation > base_elevation\n",
    "\n",
    "        area = np.sum(mask) * pixel_size\n",
    "        volume = np.nansum((elevation - base_elevation) * mask) * pixel_size\n",
    "        return area, volume\n",
    "\n",
    "raster = 'AK22_Lamb_be/LAMB_GEG_01M.tif'\n",
    "base_elevation = 50\n",
    "area, volume = cal_area_volume(raster, base_elevation)\n",
    "print(f'Area: {area} m^2, Volume: {volume} m^3')\n",
    "\n",
    "raster2 = 'AK22_Lamb_hh/LAMB_GEF_01M.tif'\n",
    "area2, volume2 = cal_area_volume(raster2, base_elevation)\n",
    "print(f'Area: {area2} m^2, Volume: {volume2} m^3')\n",
    "\n",
    "# plot the raster\n",
    "#with rasterio.open(raster) as dataset:\n",
    " #   rplot.show(dataset)\n",
    "  #  plt.show()"
   ]
  }
 ],
 "metadata": {
  "kernelspec": {
   "display_name": "Python 3",
   "language": "python",
   "name": "python3"
  },
  "language_info": {
   "codemirror_mode": {
    "name": "ipython",
    "version": 3
   },
   "file_extension": ".py",
   "mimetype": "text/x-python",
   "name": "python",
   "nbconvert_exporter": "python",
   "pygments_lexer": "ipython3",
   "version": "3.13.0"
  }
 },
 "nbformat": 4,
 "nbformat_minor": 2
}
